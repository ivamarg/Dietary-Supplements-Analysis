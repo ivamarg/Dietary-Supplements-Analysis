{
 "cells": [
  {
   "cell_type": "code",
   "execution_count": null,
   "metadata": {},
   "outputs": [],
   "source": [
    "import pandas as pd"
   ]
  },
  {
   "cell_type": "code",
   "execution_count": null,
   "metadata": {},
   "outputs": [],
   "source": [
    "df = pd.read_csv('../data/data.csv')"
   ]
  },
  {
   "cell_type": "markdown",
   "metadata": {},
   "source": [
    "## Data for graph1"
   ]
  },
  {
   "cell_type": "code",
   "execution_count": null,
   "metadata": {},
   "outputs": [],
   "source": [
    "graph1 = df.groupby(['Category','Supplements']).mean()[['Price', 'Rating', 'Count_review']].reset_index()"
   ]
  },
  {
   "cell_type": "code",
   "execution_count": null,
   "metadata": {},
   "outputs": [],
   "source": [
    "graph1 = graph1.round({'Price': 0, 'Rating': 2, 'Count_review': 0})\n",
    "graph1[['Price', 'Count_review']] = graph1[['Price', 'Count_review']].astype('int')"
   ]
  },
  {
   "cell_type": "code",
   "execution_count": null,
   "metadata": {},
   "outputs": [],
   "source": [
    "graph1.to_csv('../data/graph1.csv', index=False)"
   ]
  },
  {
   "cell_type": "code",
   "execution_count": null,
   "metadata": {},
   "outputs": [],
   "source": [
    "sort_df = df['Brand'].value_counts(sort=False).loc[df['Brand'].value_counts(sort=False) > 50]\n",
    "graph2 = pd.DataFrame({'Brand': sort_df.index.tolist(), 'Count': sort_df.tolist()})"
   ]
  },
  {
   "cell_type": "markdown",
   "metadata": {},
   "source": [
    "## Data for graph2"
   ]
  },
  {
   "cell_type": "code",
   "execution_count": null,
   "metadata": {},
   "outputs": [],
   "source": [
    "graph2.loc[graph2['Brand'] == 'нордик Натуралс', 'Brand'] = 'Нордик Натуралс'\n",
    "graph2.loc[graph2['Brand'] == 'джэрроу формулас', 'Brand'] = 'Джэрроу Формулас'"
   ]
  },
  {
   "cell_type": "markdown",
   "metadata": {},
   "source": [
    "## Data for graph3"
   ]
  },
  {
   "cell_type": "code",
   "execution_count": null,
   "metadata": {},
   "outputs": [],
   "source": [
    "temp = pd.DataFrame({'count': df.groupby(['Brand'])['Supplements'].value_counts()}).reset_index()"
   ]
  },
  {
   "cell_type": "code",
   "execution_count": null,
   "metadata": {},
   "outputs": [],
   "source": [
    "graph3 = temp[temp['Brand'].isin(['Now Foods', 'Сорс Начэралс', 'Солгар'])].pivot_table('count', index='Supplements', columns='Brand')"
   ]
  },
  {
   "cell_type": "code",
   "execution_count": null,
   "metadata": {},
   "outputs": [],
   "source": [
    "graph2.to_csv('../data/graph2.csv', index=False)"
   ]
  },
  {
   "cell_type": "code",
   "execution_count": null,
   "metadata": {},
   "outputs": [],
   "source": [
    "graph3 = graph3.rename(columns={graph3.columns[0]: \"Now_Foods\", graph3.columns[1]: \"Solgar\", graph3.columns[2]: \"Source_Naturals\" }).reset_index()"
   ]
  },
  {
   "cell_type": "code",
   "execution_count": null,
   "metadata": {},
   "outputs": [],
   "source": [
    "graph3.loc[graph3['Supplements'] == 'Amino-Acids', 'Supplements'] = 'Amino acids'\n",
    "graph3.loc[graph3['Supplements'] == 'Fish-Oil-Omegas-EPA-DHA', 'Supplements'] = 'Fish Oil & Omegas'\n",
    "graph3.loc[graph3['Supplements'] == 'Greens-Superfoods', 'Supplements'] = 'Greens & Superfoods'"
   ]
  },
  {
   "cell_type": "code",
   "execution_count": null,
   "metadata": {},
   "outputs": [],
   "source": [
    "graph3.to_csv('../data/graph3.csv', index=False)"
   ]
  },
  {
   "cell_type": "markdown",
   "metadata": {},
   "source": [
    "## Data for graph4"
   ]
  },
  {
   "cell_type": "code",
   "execution_count": null,
   "metadata": {},
   "outputs": [],
   "source": [
    "graph4 = df[['Full_name','Price', 'Rating', 'Brand', 'Link']][df['Brand'].isin (['Now Foods', 'Солгар', 'Сорс Начэралс'])].sort_values(by=['Brand'])"
   ]
  },
  {
   "cell_type": "code",
   "execution_count": null,
   "metadata": {},
   "outputs": [],
   "source": [
    "graph4.loc[df['Brand'] == 'Now Foods', 'Brand'] = 'Now_Foods'\n",
    "graph4.loc[df['Brand'] == 'Солгар', 'Brand'] = 'Solgar'\n",
    "graph4.loc[df['Brand'] == 'Сорс Начэралс', 'Brand'] = 'Source_Naturals'"
   ]
  },
  {
   "cell_type": "code",
   "execution_count": null,
   "metadata": {},
   "outputs": [],
   "source": [
    "graph4.to_csv('../data/graph4.csv', index=False)"
   ]
  }
 ],
 "metadata": {
  "kernelspec": {
   "display_name": "Python 3 (ipykernel)",
   "language": "python",
   "name": "python3"
  },
  "language_info": {
   "codemirror_mode": {
    "name": "ipython",
    "version": 3
   },
   "file_extension": ".py",
   "mimetype": "text/x-python",
   "name": "python",
   "nbconvert_exporter": "python",
   "pygments_lexer": "ipython3",
   "version": "3.9.7"
  }
 },
 "nbformat": 4,
 "nbformat_minor": 2
}